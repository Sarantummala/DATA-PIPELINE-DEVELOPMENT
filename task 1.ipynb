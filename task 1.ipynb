{
 "cells": [
  {
   "cell_type": "code",
   "execution_count": 2,
   "id": "d1da91ad-4794-4bd8-9155-17fd142260e1",
   "metadata": {},
   "outputs": [
    {
     "name": "stdout",
     "output_type": "stream",
     "text": [
      "Original DataFrame shape: (11113, 5)\n",
      "Processed data shape: (11113, 9440)\n",
      "Number of numerical columns: 1\n",
      "Number of categorical columns after one-hot encoding: 9439\n",
      "Total number of columns expected: 9440\n",
      "An error occurred: Shape of passed values is (11113, 1), indices imply (11113, 9440)\n"
     ]
    }
   ],
   "source": [
    "import pandas as pd\n",
    "from sklearn.preprocessing import StandardScaler, OneHotEncoder\n",
    "from sklearn.compose import ColumnTransformer\n",
    "from sklearn.pipeline import Pipeline\n",
    "import joblib\n",
    "\n",
    "def etl_pipeline(csv_file, output_file=\"processed_data.csv\", pipeline_file=\"preprocessing_pipeline.joblib\"):\n",
    "    try:\n",
    "        # 1. Extract (Load)\n",
    "        df = pd.read_csv(csv_file)\n",
    "        print(f\"Original DataFrame shape: {df.shape}\")\n",
    "\n",
    "        # Handle missing values\n",
    "        for col in df.columns:\n",
    "            if pd.api.types.is_numeric_dtype(df[col]):\n",
    "                df[col] = df[col].fillna(df[col].mean())  # Assign back to the column\n",
    "            else:\n",
    "                df[col] = df[col].fillna(df[col].mode()[0])  # Assign back to the column\n",
    "\n",
    "        numerical_features = df.select_dtypes(include=['number']).columns.tolist()\n",
    "        categorical_features = df.select_dtypes(include=['object']).columns.tolist()\n",
    "\n",
    "        numerical_transformer = Pipeline(steps=[('scaler', StandardScaler())])\n",
    "        categorical_transformer = Pipeline(steps=[('onehot', OneHotEncoder(handle_unknown='ignore'))])\n",
    "\n",
    "        preprocessor = ColumnTransformer(\n",
    "            transformers=[\n",
    "                ('num', numerical_transformer, numerical_features),\n",
    "                ('cat', categorical_transformer, categorical_features)\n",
    "            ])\n",
    "        \n",
    "        pipeline = Pipeline(steps=[('preprocessor', preprocessor)])\n",
    "\n",
    "        # Fit and transform the data\n",
    "        processed_data = pipeline.fit_transform(df)\n",
    "        print(f\"Processed data shape: {processed_data.shape}\")\n",
    "\n",
    "        # Get feature names after one-hot encoding\n",
    "        numerical_columns = numerical_features\n",
    "        categorical_columns = pipeline.named_steps['preprocessor'].named_transformers_['cat'].named_steps['onehot'].get_feature_names_out(categorical_features).tolist()\n",
    "        \n",
    "        print(f\"Number of numerical columns: {len(numerical_columns)}\")\n",
    "        print(f\"Number of categorical columns after one-hot encoding: {len(categorical_columns)}\")\n",
    "        print(f\"Total number of columns expected: {len(numerical_columns) + len(categorical_columns)}\")\n",
    "\n",
    "        final_columns = numerical_columns + categorical_columns\n",
    "\n",
    "        # Convert back to DataFrame\n",
    "        processed_df = pd.DataFrame(processed_data, columns=final_columns)\n",
    "\n",
    "        # 3. Load\n",
    "        processed_df.to_csv(output_file, index=False)\n",
    "        print(f\"Processed data saved to {output_file}\")\n",
    "        joblib.dump(pipeline, pipeline_file)\n",
    "        print(f\"Preprocessing pipeline saved to {pipeline_file}\")\n",
    "\n",
    "    except FileNotFoundError:\n",
    "        print(f\"Error: File '{csv_file}' not found.\")\n",
    "    except Exception as e:\n",
    "        print(f\"An error occurred: {e}\")\n",
    "\n",
    "if __name__ == \"__main__\":\n",
    "    etl_pipeline(r\"C:\\Users\\saisaran.tummala/railwayCSV.csv\")  "
   ]
  },
  {
   "cell_type": "code",
   "execution_count": null,
   "id": "d10f2b8f-e294-48a8-b3d9-a41f96d704c0",
   "metadata": {},
   "outputs": [],
   "source": []
  }
 ],
 "metadata": {
  "kernelspec": {
   "display_name": "Python 3 (ipykernel)",
   "language": "python",
   "name": "python3"
  },
  "language_info": {
   "codemirror_mode": {
    "name": "ipython",
    "version": 3
   },
   "file_extension": ".py",
   "mimetype": "text/x-python",
   "name": "python",
   "nbconvert_exporter": "python",
   "pygments_lexer": "ipython3",
   "version": "3.13.2"
  }
 },
 "nbformat": 4,
 "nbformat_minor": 5
}
